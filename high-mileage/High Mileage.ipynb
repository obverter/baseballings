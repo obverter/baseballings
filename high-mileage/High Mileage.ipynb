{
 "cells": [
  {
   "cell_type": "code",
   "execution_count": 65,
   "metadata": {},
   "outputs": [],
   "source": [
    "import pybaseball as pb\n",
    "import pandas as pd\n",
    "import numpy as np\n",
    "from pandas_profiling import ProfileReport\n",
    "import math\n",
    "import statistics as stats\n",
    "\n",
    "pb.cache.enable()"
   ]
  },
  {
   "cell_type": "code",
   "execution_count": 66,
   "metadata": {},
   "outputs": [],
   "source": [
    "df_pitching = pd.read_csv(\"../lahman/core/pitching.csv\")"
   ]
  },
  {
   "cell_type": "code",
   "execution_count": 67,
   "metadata": {},
   "outputs": [
    {
     "ename": "TypeError",
     "evalue": "'Index' object is not callable",
     "output_type": "error",
     "traceback": [
      "\u001b[0;31m---------------------------------------------------------------------------\u001b[0m",
      "\u001b[0;31mTypeError\u001b[0m                                 Traceback (most recent call last)",
      "\u001b[1;32m/Users/bean/Dropbox/_BACK/60-69_dev/63_projects/baseballings/high-mileage/High Mileage.ipynb Cell 3'\u001b[0m in \u001b[0;36m<cell line: 1>\u001b[0;34m()\u001b[0m\n\u001b[0;32m----> <a href='vscode-notebook-cell:/Users/bean/Dropbox/_BACK/60-69_dev/63_projects/baseballings/high-mileage/High%20Mileage.ipynb#ch0000002?line=0'>1</a>\u001b[0m df_pitching\u001b[39m.\u001b[39;49mcolumns()\n",
      "\u001b[0;31mTypeError\u001b[0m: 'Index' object is not callable"
     ]
    }
   ],
   "source": [
    "df_pitching.columns()"
   ]
  },
  {
   "cell_type": "code",
   "execution_count": 78,
   "metadata": {},
   "outputs": [
    {
     "data": {
      "text/plain": [
       "Index(['playerID', 'yearID', 'stint', 'teamID', 'lgID', 'W', 'L', 'G', 'GS',\n",
       "       'CG', 'SHO', 'SV', 'IPouts', 'H', 'ER', 'HR', 'BB', 'SO', 'BAOpp',\n",
       "       'ERA', 'IBB', 'WP', 'HBP', 'BK', 'BFP', 'GF', 'R', 'SH', 'SF', 'GIDP'],\n",
       "      dtype='object')"
      ]
     },
     "execution_count": 78,
     "metadata": {},
     "output_type": "execute_result"
    }
   ],
   "source": [
    "df_pitching.columns"
   ]
  },
  {
   "cell_type": "code",
   "execution_count": 100,
   "metadata": {},
   "outputs": [],
   "source": [
    "df = df_pitching\n",
    "year_groups = df.groupby(['yearID']).apply(lambda x: [list(x['CG']), list(x['IPouts']), list(x['BAOpp']), list(x['BB']), list(x['SO']), list(x['ERA'])]).apply(pd.Series)\n",
    "year_groups.columns = ['CG', 'IPOuts', 'BAOpp', 'BB', 'SO', 'ERA']\n",
    "# cg_year_lists = (year_groups['CG']).apply(list)\n",
    "# cg_year_lists = cg_year_lists.reset_index()"
   ]
  },
  {
   "cell_type": "code",
   "execution_count": 101,
   "metadata": {},
   "outputs": [
    {
     "data": {
      "text/html": [
       "<div>\n",
       "<style scoped>\n",
       "    .dataframe tbody tr th:only-of-type {\n",
       "        vertical-align: middle;\n",
       "    }\n",
       "\n",
       "    .dataframe tbody tr th {\n",
       "        vertical-align: top;\n",
       "    }\n",
       "\n",
       "    .dataframe thead th {\n",
       "        text-align: right;\n",
       "    }\n",
       "</style>\n",
       "<table border=\"1\" class=\"dataframe\">\n",
       "  <thead>\n",
       "    <tr style=\"text-align: right;\">\n",
       "      <th></th>\n",
       "      <th>CG</th>\n",
       "      <th>IPOuts</th>\n",
       "      <th>BAOpp</th>\n",
       "      <th>BB</th>\n",
       "      <th>SO</th>\n",
       "      <th>ERA</th>\n",
       "    </tr>\n",
       "    <tr>\n",
       "      <th>yearID</th>\n",
       "      <th></th>\n",
       "      <th></th>\n",
       "      <th></th>\n",
       "      <th></th>\n",
       "      <th></th>\n",
       "      <th></th>\n",
       "    </tr>\n",
       "  </thead>\n",
       "  <tbody>\n",
       "    <tr>\n",
       "      <th>1871</th>\n",
       "      <td>[2, 30, 0, 22, 1, 0, 1, 19, 25, 28, 0, 1, 0, 2...</td>\n",
       "      <td>[78, 792, 3, 639, 27, 3, 39, 507, 666, 747, 3,...</td>\n",
       "      <td>[nan, nan, nan, nan, nan, nan, nan, nan, nan, ...</td>\n",
       "      <td>[11, 37, 0, 31, 3, 0, 3, 21, 40, 75, 2, 6, 3, ...</td>\n",
       "      <td>[1, 13, 0, 15, 0, 0, 1, 17, 15, 12, 0, 0, 0, 3...</td>\n",
       "      <td>[7.96, 4.5, 27.0, 4.35, 10.0, 0.0, 3.46, 5.17,...</td>\n",
       "    </tr>\n",
       "    <tr>\n",
       "      <th>1872</th>\n",
       "      <td>[14, 9, 1, 37, 5, 1, 53, 9, 2, 0, 9, 39, 47, 7...</td>\n",
       "      <td>[432, 237, 24, 1008, 177, 27, 1491, 330, 54, 1...</td>\n",
       "      <td>[nan, nan, nan, nan, nan, nan, nan, nan, nan, ...</td>\n",
       "      <td>[12, 5, 0, 21, 3, 1, 31, 11, 4, 2, 9, 52, 26, ...</td>\n",
       "      <td>[5, 1, 0, 13, 5, 1, 45, 20, 0, 2, 3, 57, 44, 1...</td>\n",
       "      <td>[6.06, 6.38, 5.63, 4.53, 4.27, 7.0, 3.01, 1.8,...</td>\n",
       "    </tr>\n",
       "    <tr>\n",
       "      <th>1873</th>\n",
       "      <td>[1, 12, 51, 18, 42, 1, 5, 2, 1, 1, 0, 7, 1, 1,...</td>\n",
       "      <td>[48, 326, 1442, 495, 1146, 58, 253, 72, 54, 27...</td>\n",
       "      <td>[nan, nan, nan, nan, nan, nan, nan, nan, nan, ...</td>\n",
       "      <td>[2, 9, 41, 8, 33, 2, 10, 0, 1, 0, 1, 10, 1, 6,...</td>\n",
       "      <td>[0, 3, 16, 7, 34, 0, 14, 1, 0, 0, 0, 5, 1, 1, ...</td>\n",
       "      <td>[4.5, 4.14, 4.08, 2.95, 2.8, 5.59, 1.81, 5.25,...</td>\n",
       "    </tr>\n",
       "    <tr>\n",
       "      <th>1874</th>\n",
       "      <td>[4, 55, 25, 1, 52, 1, 31, 0, 0, 17, 62, 55, 0,...</td>\n",
       "      <td>[117, 1491, 720, 33, 1449, 27, 967, 21, 24, 53...</td>\n",
       "      <td>[nan, nan, nan, nan, nan, nan, nan, nan, nan, ...</td>\n",
       "      <td>[1, 8, 27, 2, 18, 3, 13, 0, 0, 12, 41, 32, 0, ...</td>\n",
       "      <td>[0, 42, 8, 0, 61, 0, 25, 0, 0, 12, 101, 37, 0,...</td>\n",
       "      <td>[1.62, 2.03, 3.71, 4.91, 1.96, 4.0, 2.32, 15.4...</td>\n",
       "    </tr>\n",
       "    <tr>\n",
       "      <th>1875</th>\n",
       "      <td>[0, 14, 4, 12, 37, 7, 0, 57, 18, 9, 46, 24, 0,...</td>\n",
       "      <td>[7, 378, 108, 387, 1056, 198, 5, 1607, 641, 36...</td>\n",
       "      <td>[nan, nan, nan, nan, nan, nan, nan, nan, nan, ...</td>\n",
       "      <td>[0, 5, 3, 2, 7, 7, 0, 17, 11, 5, 4, 12, 0, 0, ...</td>\n",
       "      <td>[0, 6, 3, 14, 70, 9, 0, 60, 9, 7, 82, 23, 0, 0...</td>\n",
       "      <td>[7.71, 2.71, 2.5, 3.07, 1.41, 1.5, 0.0, 2.13, ...</td>\n",
       "    </tr>\n",
       "    <tr>\n",
       "      <th>...</th>\n",
       "      <td>...</td>\n",
       "      <td>...</td>\n",
       "      <td>...</td>\n",
       "      <td>...</td>\n",
       "      <td>...</td>\n",
       "      <td>...</td>\n",
       "    </tr>\n",
       "    <tr>\n",
       "      <th>2017</th>\n",
       "      <td>[0, 0, 0, 0, 0, 0, 0, 0, 0, 0, 0, 0, 0, 0, 0, ...</td>\n",
       "      <td>[131, 15, 367, 123, 183, 30, 24, 72, 25, 22, 2...</td>\n",
       "      <td>[0.242, 0.211, 0.264, 0.262, 0.166, 0.194, 0.1...</td>\n",
       "      <td>[14, 8, 51, 10, 17, 6, 2, 12, 6, 4, 28, 21, 2,...</td>\n",
       "      <td>[37, 10, 108, 37, 63, 9, 5, 12, 10, 5, 59, 92,...</td>\n",
       "      <td>[3.3, 3.6, 5.52, 3.51, 1.62, 3.6, 1.13, 7.13, ...</td>\n",
       "    </tr>\n",
       "    <tr>\n",
       "      <th>2018</th>\n",
       "      <td>[0, 0, 0, 0, 0, 0, 0, 0, 0, 0, 0, 0, 0, 0, 0, ...</td>\n",
       "      <td>[97, 3, 23, 103, 102, 90, 198, 24, 201, 21, 44...</td>\n",
       "      <td>[0.246, 0.25, 0.267, 0.321, 0.214, 0.223, 0.23...</td>\n",
       "      <td>[15, 3, 4, 12, 23, 6, 27, 4, 33, 3, 4, 15, 22,...</td>\n",
       "      <td>[37, 0, 4, 32, 30, 21, 56, 3, 80, 7, 14, 23, 5...</td>\n",
       "      <td>[6.12, 0.0, 7.04, 7.34, 3.44, 2.4, 3.68, 12.38...</td>\n",
       "    </tr>\n",
       "    <tr>\n",
       "      <th>2019</th>\n",
       "      <td>[0, 0, 0, 0, 0, 0, 0, 0, 0, 0, 0, 0, 0, 0, 0, ...</td>\n",
       "      <td>[39, 26, 65, 8, 42, 3, 93, 76, 3, 220, 12, 35,...</td>\n",
       "      <td>[0.196, 0.138, 0.2, 0.333, 0.259, 0.0, 0.183, ...</td>\n",
       "      <td>[3, 3, 10, 3, 10, 2, 14, 11, 0, 18, 3, 4, 2, 2...</td>\n",
       "      <td>[9, 13, 18, 5, 9, 2, 51, 23, 1, 41, 6, 7, 0, 5...</td>\n",
       "      <td>[4.15, 1.04, 2.91, 16.88, 5.14, 9.0, 3.77, 8.5...</td>\n",
       "    </tr>\n",
       "    <tr>\n",
       "      <th>2020</th>\n",
       "      <td>[0, 0, 0, 0, 0, 0, 0, 0, 0, 0, 0, 0, 0, 0, 0, ...</td>\n",
       "      <td>[4, 10, 41, 12, 26, 3, 77, 72, 126, 37, 109, 1...</td>\n",
       "      <td>[0.5, 0.091, 0.18, 0.2, 0.375, 0.25, 0.262, 0....</td>\n",
       "      <td>[2, 7, 8, 2, 0, 0, 10, 8, 15, 9, 9, 20, 7, 6, ...</td>\n",
       "      <td>[2, 3, 21, 7, 6, 0, 35, 27, 39, 9, 34, 32, 7, ...</td>\n",
       "      <td>[20.25, 2.7, 3.29, 4.5, 9.35, 9.0, 4.56, 2.63,...</td>\n",
       "    </tr>\n",
       "    <tr>\n",
       "      <th>2021</th>\n",
       "      <td>[0, 0, 0, 0, 0, 0, 0, 0, 0, 0, 0, 0, 0, 0, 1, ...</td>\n",
       "      <td>[53, 52, 110, 108, 33, 32, 158, 16, 21, 285, 8...</td>\n",
       "      <td>[0.307, 0.286, 0.206, 0.254, 0.225, 0.244, 0.1...</td>\n",
       "      <td>[7, 11, 19, 18, 4, 6, 35, 3, 4, 40, 3, 9, 0, 1...</td>\n",
       "      <td>[10, 12, 35, 36, 9, 19, 76, 9, 3, 82, 3, 12, 0...</td>\n",
       "      <td>[5.6, 6.75, 5.15, 5.75, 3.27, 5.91, 4.1, 3.38,...</td>\n",
       "    </tr>\n",
       "  </tbody>\n",
       "</table>\n",
       "<p>151 rows × 6 columns</p>\n",
       "</div>"
      ],
      "text/plain": [
       "                                                       CG  \\\n",
       "yearID                                                      \n",
       "1871    [2, 30, 0, 22, 1, 0, 1, 19, 25, 28, 0, 1, 0, 2...   \n",
       "1872    [14, 9, 1, 37, 5, 1, 53, 9, 2, 0, 9, 39, 47, 7...   \n",
       "1873    [1, 12, 51, 18, 42, 1, 5, 2, 1, 1, 0, 7, 1, 1,...   \n",
       "1874    [4, 55, 25, 1, 52, 1, 31, 0, 0, 17, 62, 55, 0,...   \n",
       "1875    [0, 14, 4, 12, 37, 7, 0, 57, 18, 9, 46, 24, 0,...   \n",
       "...                                                   ...   \n",
       "2017    [0, 0, 0, 0, 0, 0, 0, 0, 0, 0, 0, 0, 0, 0, 0, ...   \n",
       "2018    [0, 0, 0, 0, 0, 0, 0, 0, 0, 0, 0, 0, 0, 0, 0, ...   \n",
       "2019    [0, 0, 0, 0, 0, 0, 0, 0, 0, 0, 0, 0, 0, 0, 0, ...   \n",
       "2020    [0, 0, 0, 0, 0, 0, 0, 0, 0, 0, 0, 0, 0, 0, 0, ...   \n",
       "2021    [0, 0, 0, 0, 0, 0, 0, 0, 0, 0, 0, 0, 0, 0, 1, ...   \n",
       "\n",
       "                                                   IPOuts  \\\n",
       "yearID                                                      \n",
       "1871    [78, 792, 3, 639, 27, 3, 39, 507, 666, 747, 3,...   \n",
       "1872    [432, 237, 24, 1008, 177, 27, 1491, 330, 54, 1...   \n",
       "1873    [48, 326, 1442, 495, 1146, 58, 253, 72, 54, 27...   \n",
       "1874    [117, 1491, 720, 33, 1449, 27, 967, 21, 24, 53...   \n",
       "1875    [7, 378, 108, 387, 1056, 198, 5, 1607, 641, 36...   \n",
       "...                                                   ...   \n",
       "2017    [131, 15, 367, 123, 183, 30, 24, 72, 25, 22, 2...   \n",
       "2018    [97, 3, 23, 103, 102, 90, 198, 24, 201, 21, 44...   \n",
       "2019    [39, 26, 65, 8, 42, 3, 93, 76, 3, 220, 12, 35,...   \n",
       "2020    [4, 10, 41, 12, 26, 3, 77, 72, 126, 37, 109, 1...   \n",
       "2021    [53, 52, 110, 108, 33, 32, 158, 16, 21, 285, 8...   \n",
       "\n",
       "                                                    BAOpp  \\\n",
       "yearID                                                      \n",
       "1871    [nan, nan, nan, nan, nan, nan, nan, nan, nan, ...   \n",
       "1872    [nan, nan, nan, nan, nan, nan, nan, nan, nan, ...   \n",
       "1873    [nan, nan, nan, nan, nan, nan, nan, nan, nan, ...   \n",
       "1874    [nan, nan, nan, nan, nan, nan, nan, nan, nan, ...   \n",
       "1875    [nan, nan, nan, nan, nan, nan, nan, nan, nan, ...   \n",
       "...                                                   ...   \n",
       "2017    [0.242, 0.211, 0.264, 0.262, 0.166, 0.194, 0.1...   \n",
       "2018    [0.246, 0.25, 0.267, 0.321, 0.214, 0.223, 0.23...   \n",
       "2019    [0.196, 0.138, 0.2, 0.333, 0.259, 0.0, 0.183, ...   \n",
       "2020    [0.5, 0.091, 0.18, 0.2, 0.375, 0.25, 0.262, 0....   \n",
       "2021    [0.307, 0.286, 0.206, 0.254, 0.225, 0.244, 0.1...   \n",
       "\n",
       "                                                       BB  \\\n",
       "yearID                                                      \n",
       "1871    [11, 37, 0, 31, 3, 0, 3, 21, 40, 75, 2, 6, 3, ...   \n",
       "1872    [12, 5, 0, 21, 3, 1, 31, 11, 4, 2, 9, 52, 26, ...   \n",
       "1873    [2, 9, 41, 8, 33, 2, 10, 0, 1, 0, 1, 10, 1, 6,...   \n",
       "1874    [1, 8, 27, 2, 18, 3, 13, 0, 0, 12, 41, 32, 0, ...   \n",
       "1875    [0, 5, 3, 2, 7, 7, 0, 17, 11, 5, 4, 12, 0, 0, ...   \n",
       "...                                                   ...   \n",
       "2017    [14, 8, 51, 10, 17, 6, 2, 12, 6, 4, 28, 21, 2,...   \n",
       "2018    [15, 3, 4, 12, 23, 6, 27, 4, 33, 3, 4, 15, 22,...   \n",
       "2019    [3, 3, 10, 3, 10, 2, 14, 11, 0, 18, 3, 4, 2, 2...   \n",
       "2020    [2, 7, 8, 2, 0, 0, 10, 8, 15, 9, 9, 20, 7, 6, ...   \n",
       "2021    [7, 11, 19, 18, 4, 6, 35, 3, 4, 40, 3, 9, 0, 1...   \n",
       "\n",
       "                                                       SO  \\\n",
       "yearID                                                      \n",
       "1871    [1, 13, 0, 15, 0, 0, 1, 17, 15, 12, 0, 0, 0, 3...   \n",
       "1872    [5, 1, 0, 13, 5, 1, 45, 20, 0, 2, 3, 57, 44, 1...   \n",
       "1873    [0, 3, 16, 7, 34, 0, 14, 1, 0, 0, 0, 5, 1, 1, ...   \n",
       "1874    [0, 42, 8, 0, 61, 0, 25, 0, 0, 12, 101, 37, 0,...   \n",
       "1875    [0, 6, 3, 14, 70, 9, 0, 60, 9, 7, 82, 23, 0, 0...   \n",
       "...                                                   ...   \n",
       "2017    [37, 10, 108, 37, 63, 9, 5, 12, 10, 5, 59, 92,...   \n",
       "2018    [37, 0, 4, 32, 30, 21, 56, 3, 80, 7, 14, 23, 5...   \n",
       "2019    [9, 13, 18, 5, 9, 2, 51, 23, 1, 41, 6, 7, 0, 5...   \n",
       "2020    [2, 3, 21, 7, 6, 0, 35, 27, 39, 9, 34, 32, 7, ...   \n",
       "2021    [10, 12, 35, 36, 9, 19, 76, 9, 3, 82, 3, 12, 0...   \n",
       "\n",
       "                                                      ERA  \n",
       "yearID                                                     \n",
       "1871    [7.96, 4.5, 27.0, 4.35, 10.0, 0.0, 3.46, 5.17,...  \n",
       "1872    [6.06, 6.38, 5.63, 4.53, 4.27, 7.0, 3.01, 1.8,...  \n",
       "1873    [4.5, 4.14, 4.08, 2.95, 2.8, 5.59, 1.81, 5.25,...  \n",
       "1874    [1.62, 2.03, 3.71, 4.91, 1.96, 4.0, 2.32, 15.4...  \n",
       "1875    [7.71, 2.71, 2.5, 3.07, 1.41, 1.5, 0.0, 2.13, ...  \n",
       "...                                                   ...  \n",
       "2017    [3.3, 3.6, 5.52, 3.51, 1.62, 3.6, 1.13, 7.13, ...  \n",
       "2018    [6.12, 0.0, 7.04, 7.34, 3.44, 2.4, 3.68, 12.38...  \n",
       "2019    [4.15, 1.04, 2.91, 16.88, 5.14, 9.0, 3.77, 8.5...  \n",
       "2020    [20.25, 2.7, 3.29, 4.5, 9.35, 9.0, 4.56, 2.63,...  \n",
       "2021    [5.6, 6.75, 5.15, 5.75, 3.27, 5.91, 4.1, 3.38,...  \n",
       "\n",
       "[151 rows x 6 columns]"
      ]
     },
     "execution_count": 101,
     "metadata": {},
     "output_type": "execute_result"
    }
   ],
   "source": [
    "year_groups"
   ]
  },
  {
   "cell_type": "code",
   "execution_count": 96,
   "metadata": {},
   "outputs": [
    {
     "data": {
      "text/html": [
       "<div>\n",
       "<style scoped>\n",
       "    .dataframe tbody tr th:only-of-type {\n",
       "        vertical-align: middle;\n",
       "    }\n",
       "\n",
       "    .dataframe tbody tr th {\n",
       "        vertical-align: top;\n",
       "    }\n",
       "\n",
       "    .dataframe thead th {\n",
       "        text-align: right;\n",
       "    }\n",
       "</style>\n",
       "<table border=\"1\" class=\"dataframe\">\n",
       "  <thead>\n",
       "    <tr style=\"text-align: right;\">\n",
       "      <th></th>\n",
       "      <th>yearID</th>\n",
       "      <th>CG</th>\n",
       "    </tr>\n",
       "  </thead>\n",
       "  <tbody>\n",
       "    <tr>\n",
       "      <th>0</th>\n",
       "      <td>1871</td>\n",
       "      <td>[2, 30, 0, 22, 1, 0, 1, 19, 25, 28, 0, 1, 0, 2...</td>\n",
       "    </tr>\n",
       "    <tr>\n",
       "      <th>1</th>\n",
       "      <td>1872</td>\n",
       "      <td>[14, 9, 1, 37, 5, 1, 53, 9, 2, 0, 9, 39, 47, 7...</td>\n",
       "    </tr>\n",
       "    <tr>\n",
       "      <th>2</th>\n",
       "      <td>1873</td>\n",
       "      <td>[1, 12, 51, 18, 42, 1, 5, 2, 1, 1, 0, 7, 1, 1,...</td>\n",
       "    </tr>\n",
       "    <tr>\n",
       "      <th>3</th>\n",
       "      <td>1874</td>\n",
       "      <td>[4, 55, 25, 1, 52, 1, 31, 0, 0, 17, 62, 55, 0,...</td>\n",
       "    </tr>\n",
       "    <tr>\n",
       "      <th>4</th>\n",
       "      <td>1875</td>\n",
       "      <td>[0, 14, 4, 12, 37, 7, 0, 57, 18, 9, 46, 24, 0,...</td>\n",
       "    </tr>\n",
       "    <tr>\n",
       "      <th>...</th>\n",
       "      <td>...</td>\n",
       "      <td>...</td>\n",
       "    </tr>\n",
       "    <tr>\n",
       "      <th>146</th>\n",
       "      <td>2017</td>\n",
       "      <td>[0, 0, 0, 0, 0, 0, 0, 0, 0, 0, 0, 0, 0, 0, 0, ...</td>\n",
       "    </tr>\n",
       "    <tr>\n",
       "      <th>147</th>\n",
       "      <td>2018</td>\n",
       "      <td>[0, 0, 0, 0, 0, 0, 0, 0, 0, 0, 0, 0, 0, 0, 0, ...</td>\n",
       "    </tr>\n",
       "    <tr>\n",
       "      <th>148</th>\n",
       "      <td>2019</td>\n",
       "      <td>[0, 0, 0, 0, 0, 0, 0, 0, 0, 0, 0, 0, 0, 0, 0, ...</td>\n",
       "    </tr>\n",
       "    <tr>\n",
       "      <th>149</th>\n",
       "      <td>2020</td>\n",
       "      <td>[0, 0, 0, 0, 0, 0, 0, 0, 0, 0, 0, 0, 0, 0, 0, ...</td>\n",
       "    </tr>\n",
       "    <tr>\n",
       "      <th>150</th>\n",
       "      <td>2021</td>\n",
       "      <td>[0, 0, 0, 0, 0, 0, 0, 0, 0, 0, 0, 0, 0, 0, 1, ...</td>\n",
       "    </tr>\n",
       "  </tbody>\n",
       "</table>\n",
       "<p>151 rows × 2 columns</p>\n",
       "</div>"
      ],
      "text/plain": [
       "     yearID                                                 CG\n",
       "0      1871  [2, 30, 0, 22, 1, 0, 1, 19, 25, 28, 0, 1, 0, 2...\n",
       "1      1872  [14, 9, 1, 37, 5, 1, 53, 9, 2, 0, 9, 39, 47, 7...\n",
       "2      1873  [1, 12, 51, 18, 42, 1, 5, 2, 1, 1, 0, 7, 1, 1,...\n",
       "3      1874  [4, 55, 25, 1, 52, 1, 31, 0, 0, 17, 62, 55, 0,...\n",
       "4      1875  [0, 14, 4, 12, 37, 7, 0, 57, 18, 9, 46, 24, 0,...\n",
       "..      ...                                                ...\n",
       "146    2017  [0, 0, 0, 0, 0, 0, 0, 0, 0, 0, 0, 0, 0, 0, 0, ...\n",
       "147    2018  [0, 0, 0, 0, 0, 0, 0, 0, 0, 0, 0, 0, 0, 0, 0, ...\n",
       "148    2019  [0, 0, 0, 0, 0, 0, 0, 0, 0, 0, 0, 0, 0, 0, 0, ...\n",
       "149    2020  [0, 0, 0, 0, 0, 0, 0, 0, 0, 0, 0, 0, 0, 0, 0, ...\n",
       "150    2021  [0, 0, 0, 0, 0, 0, 0, 0, 0, 0, 0, 0, 0, 0, 1, ...\n",
       "\n",
       "[151 rows x 2 columns]"
      ]
     },
     "execution_count": 96,
     "metadata": {},
     "output_type": "execute_result"
    }
   ],
   "source": [
    "cg_year_lists"
   ]
  },
  {
   "cell_type": "code",
   "execution_count": 74,
   "metadata": {},
   "outputs": [],
   "source": [
    "year = 1871\n",
    "season_list = []\n",
    "counter = 0\n",
    "for year in range(1871, 2021):\n",
    "    season = cg_year_lists['yearID']\n",
    "    season = {}\n",
    "    season['year'] = cg_year_lists['yearID'][counter]\n",
    "    season['team'] = cg_year_lists['teamID'][counter]\n",
    "    season['CG_max'] = max(cg_year_lists['CG'][counter])\n",
    "    season['CG_min'] = min(cg_year_lists['CG'][counter])\n",
    "    season['CG_mean'] = stats.mean(cg_year_lists['CG'][counter])\n",
    "    season['CG_median'] = stats.median(cg_year_lists['CG'][counter])\n",
    "    season['CG_harmean'] = stats.harmonic_mean(cg_year_lists['CG'][counter])\n",
    "    # season['CG_normaldist'] = stats.NormalDist(cg_year_lists['CG'][counter])\n",
    "    # season['CG_stdev'] = stats.stdev(cg_year_lists['CG'][counter])\n",
    "    season['CG_var'] = stats.variance(cg_year_lists['CG'][counter])\n",
    "    season_list.append(season)\n",
    "    counter += 1\n",
    "    "
   ]
  },
  {
   "cell_type": "code",
   "execution_count": 75,
   "metadata": {},
   "outputs": [
    {
     "data": {
      "text/plain": [
       "{'year': 1871,\n",
       " 'CG_max': 31,\n",
       " 'CG_min': 0,\n",
       " 'CG_mean': 12.157894736842104,\n",
       " 'CG_median': 2,\n",
       " 'CG_harmean': 0,\n",
       " 'CG_var': 161.69590643274853}"
      ]
     },
     "execution_count": 75,
     "metadata": {},
     "output_type": "execute_result"
    }
   ],
   "source": [
    "season_list[0]"
   ]
  },
  {
   "cell_type": "code",
   "execution_count": 32,
   "metadata": {},
   "outputs": [
    {
     "ename": "ValueError",
     "evalue": "The truth value of a Series is ambiguous. Use a.empty, a.bool(), a.item(), a.any() or a.all().",
     "output_type": "error",
     "traceback": [
      "\u001b[0;31m---------------------------------------------------------------------------\u001b[0m",
      "\u001b[0;31mValueError\u001b[0m                                Traceback (most recent call last)",
      "\u001b[1;32m/Users/bean/Dropbox/_BACK/60-69_dev/63_projects/baseballings/high-mileage/High Mileage.ipynb Cell 6'\u001b[0m in \u001b[0;36m<cell line: 3>\u001b[0;34m()\u001b[0m\n\u001b[1;32m      <a href='vscode-notebook-cell:/Users/bean/Dropbox/_BACK/60-69_dev/63_projects/baseballings/high-mileage/High%20Mileage.ipynb#ch0000004?line=2'>3</a>\u001b[0m \u001b[39mfor\u001b[39;00m season \u001b[39min\u001b[39;00m \u001b[39mrange\u001b[39m(\u001b[39m1871\u001b[39m, \u001b[39m2021\u001b[39m):\n\u001b[1;32m      <a href='vscode-notebook-cell:/Users/bean/Dropbox/_BACK/60-69_dev/63_projects/baseballings/high-mileage/High%20Mileage.ipynb#ch0000004?line=3'>4</a>\u001b[0m     year_counter \u001b[39m=\u001b[39m {}\n\u001b[0;32m----> <a href='vscode-notebook-cell:/Users/bean/Dropbox/_BACK/60-69_dev/63_projects/baseballings/high-mileage/High%20Mileage.ipynb#ch0000004?line=4'>5</a>\u001b[0m     \u001b[39mwhile\u001b[39;00m df_pitching[\u001b[39m'\u001b[39m\u001b[39myearID\u001b[39m\u001b[39m'\u001b[39m] \u001b[39m==\u001b[39m year_counter:\n\u001b[1;32m      <a href='vscode-notebook-cell:/Users/bean/Dropbox/_BACK/60-69_dev/63_projects/baseballings/high-mileage/High%20Mileage.ipynb#ch0000004?line=5'>6</a>\u001b[0m         \u001b[39mif\u001b[39;00m df_pitching[\u001b[39m'\u001b[39m\u001b[39mCG\u001b[39m\u001b[39m'\u001b[39m] \u001b[39m>\u001b[39m\u001b[39m=\u001b[39m \u001b[39m1\u001b[39m:\n\u001b[1;32m      <a href='vscode-notebook-cell:/Users/bean/Dropbox/_BACK/60-69_dev/63_projects/baseballings/high-mileage/High%20Mileage.ipynb#ch0000004?line=6'>7</a>\u001b[0m             year_counter[\u001b[39m'\u001b[39m\u001b[39mCG_max\u001b[39m\u001b[39m'\u001b[39m] \u001b[39m=\u001b[39m df_pitching[\u001b[39m'\u001b[39m\u001b[39mCG\u001b[39m\u001b[39m'\u001b[39m]\n",
      "File \u001b[0;32m~/.pyenv/versions/3.10.3/lib/python3.10/site-packages/pandas/core/generic.py:1527\u001b[0m, in \u001b[0;36mNDFrame.__nonzero__\u001b[0;34m(self)\u001b[0m\n\u001b[1;32m   1525\u001b[0m \u001b[39m@final\u001b[39m\n\u001b[1;32m   1526\u001b[0m \u001b[39mdef\u001b[39;00m \u001b[39m__nonzero__\u001b[39m(\u001b[39mself\u001b[39m):\n\u001b[0;32m-> 1527\u001b[0m     \u001b[39mraise\u001b[39;00m \u001b[39mValueError\u001b[39;00m(\n\u001b[1;32m   1528\u001b[0m         \u001b[39mf\u001b[39m\u001b[39m\"\u001b[39m\u001b[39mThe truth value of a \u001b[39m\u001b[39m{\u001b[39;00m\u001b[39mtype\u001b[39m(\u001b[39mself\u001b[39m)\u001b[39m.\u001b[39m\u001b[39m__name__\u001b[39m\u001b[39m}\u001b[39;00m\u001b[39m is ambiguous. \u001b[39m\u001b[39m\"\u001b[39m\n\u001b[1;32m   1529\u001b[0m         \u001b[39m\"\u001b[39m\u001b[39mUse a.empty, a.bool(), a.item(), a.any() or a.all().\u001b[39m\u001b[39m\"\u001b[39m\n\u001b[1;32m   1530\u001b[0m     )\n",
      "\u001b[0;31mValueError\u001b[0m: The truth value of a Series is ambiguous. Use a.empty, a.bool(), a.item(), a.any() or a.all()."
     ]
    }
   ],
   "source": [
    "years = []\n",
    "year_counter = 1871\n",
    "for season in range(1871, 2021):\n",
    "    year_counter = {}\n",
    "    while df_pitching['yearID'] == year_counter:\n",
    "        if df_pitching['CG'] >= 1:\n",
    "            year_counter['CG_max'] = df_pitching['CG']\n"
   ]
  },
  {
   "cell_type": "code",
   "execution_count": 26,
   "metadata": {},
   "outputs": [
    {
     "data": {
      "text/plain": [
       "dict_values([2020])"
      ]
     },
     "execution_count": 26,
     "metadata": {},
     "output_type": "execute_result"
    }
   ],
   "source": [
    "years.values()"
   ]
  },
  {
   "cell_type": "code",
   "execution_count": null,
   "metadata": {},
   "outputs": [],
   "source": []
  }
 ],
 "metadata": {
  "kernelspec": {
   "display_name": "Python 3.10.3 64-bit ('3.10.3')",
   "language": "python",
   "name": "python3"
  },
  "language_info": {
   "codemirror_mode": {
    "name": "ipython",
    "version": 3
   },
   "file_extension": ".py",
   "mimetype": "text/x-python",
   "name": "python",
   "nbconvert_exporter": "python",
   "pygments_lexer": "ipython3",
   "version": "3.10.3"
  },
  "orig_nbformat": 4,
  "vscode": {
   "interpreter": {
    "hash": "10626171d4353dd8d0f12b0dae77464b904fee8f635bb045a55f368206a04bde"
   }
  }
 },
 "nbformat": 4,
 "nbformat_minor": 2
}
