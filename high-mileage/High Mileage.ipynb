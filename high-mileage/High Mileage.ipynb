{
 "cells": [
  {
   "cell_type": "markdown",
   "metadata": {},
   "source": [
    "# Pitchers Used to Throw More than They Do Today:\n",
    "### or, a Diamond Dispatch from Captain Obvious"
   ]
  },
  {
   "cell_type": "markdown",
   "metadata": {},
   "source": [
    "## What We're Looking For\n",
    "The modern professional baseball player comes from a different planet than did their old-timey, horse-and-buggy forebears. Today's game is faster, higher-scoring, and split-second timed. Most players' skill sets and repertoire are specialized and weaponized so as to befuddle, speed past, and overpower the suckers wearing the other-colored caps.\n",
    "\n",
    "This is undisputed.\n",
    "\n",
    "Also undisputed is that the \"professional\" baseball player of ~150 years ago was not a full-time, this-is-all-I-do professional. For its first few decades, baseball was a seasonal job played before crowds of maybe a few hundred spectators for the biggest games. \n",
    "\n",
    "And owing to the vocation's part-time nature, almost nobody crafted their game with a specialized approach — beyond some penchant, preference, or aptitude for one position or another.\n",
    "\n",
    "Of all the positions on the diamond, the starting pitcher's role has changed the most.\n",
    "\n",
    "Relief pitchers weren't really a structured part of the game in its fledgling years. The starting pitcher was the pitcher, and the pitcher usually pitched the entire game.\n",
    "\n",
    "So what changed?"
   ]
  },
  {
   "cell_type": "code",
   "execution_count": null,
   "metadata": {},
   "outputs": [],
   "source": [
    "import pybaseball as pb\n",
    "import pandas as pd\n",
    "import numpy as np\n",
    "from pandas_profiling import ProfileReport\n",
    "import math\n",
    "import statistics as stats\n",
    "import ipywidgets\n",
    "\n",
    "pb.cache.enable()"
   ]
  },
  {
   "cell_type": "code",
   "execution_count": null,
   "metadata": {},
   "outputs": [],
   "source": [
    "df_pitching = pd.read_csv(\"../lahman/core/pitching.csv\")"
   ]
  },
  {
   "cell_type": "code",
   "execution_count": null,
   "metadata": {},
   "outputs": [],
   "source": [
    "df_pitching.columns"
   ]
  },
  {
   "cell_type": "code",
   "execution_count": null,
   "metadata": {},
   "outputs": [],
   "source": [
    "df = df_pitching  # group pitcher data into per-year dicts, throw to list\n",
    "year_groups = df.groupby(['yearID']).apply(\n",
    "    lambda x: [\n",
    "        list(x['teamID']), \n",
    "        list(x['CG']), \n",
    "        list(x['IPouts']), \n",
    "        list(x['BFP']), \n",
    "        list(x['BAOpp']), \n",
    "        list(x['BB']), \n",
    "        list(x['SO']), \n",
    "        list(x['ERA'])\n",
    "        ]\n",
    "    ).apply(pd.Series)\n",
    "year_groups.columns = ['team_ID', 'CG', 'IP_Outs', 'BFP', 'Opp_BA', 'BB', 'SO', 'ERA']\n",
    "year_groups = year_groups.reset_index()"
   ]
  },
  {
   "cell_type": "code",
   "execution_count": null,
   "metadata": {},
   "outputs": [],
   "source": [
    "year = 1871\n",
    "season_list = []\n",
    "counter = 0\n",
    "for year in range(1871, 2021):\n",
    "    season = year_groups['yearID']\n",
    "    season = {}\n",
    "    season['year'] = year_groups['yearID'][counter]\n",
    "\n",
    "    season['CG_max'] = max(year_groups['CG'][counter])\n",
    "    season['CG_min'] = min(year_groups['CG'][counter])\n",
    "    season['CG_mean'] = stats.mean(year_groups['CG'][counter])\n",
    "    season['CG_median'] = stats.median(year_groups['CG'][counter])\n",
    "    season['CG_var'] = stats.variance(year_groups['CG'][counter])\n",
    "    \n",
    "    season['IP_outs_max'] = max(year_groups['IP_Outs'][counter])\n",
    "    season['IP_outs_min'] = min(year_groups['IP_Outs'][counter])\n",
    "    season['IP_outs_mean'] = stats.mean(year_groups['IP_Outs'][counter])\n",
    "    season['IP_outs_median'] = stats.median(year_groups['IP_Outs'][counter])\n",
    "    season['IP_outs_var'] = stats.variance(year_groups['IP_Outs'][counter])\n",
    "\n",
    "    season['batters_faced_max'] = max(year_groups['BFP'][counter])\n",
    "    season['batters_faced_min'] = min(year_groups['BFP'][counter])\n",
    "    season['batters_faced_mean'] = stats.mean(year_groups['BFP'][counter])\n",
    "    season['batters_faced_median'] = stats.median(year_groups['BFP'][counter])\n",
    "    # season['batters_faced_var'] = stats.variance(year_groups['BFP'][counter])\n",
    "\n",
    "    season['Opp_BA_max'] = max(year_groups['Opp_BA'][counter])\n",
    "    season['Opp_BA_min'] = min(year_groups['Opp_BA'][counter])\n",
    "    season['Opp_BA_mean'] = stats.mean(year_groups['Opp_BA'][counter])\n",
    "    season['Opp_BA_median'] = stats.median(year_groups['Opp_BA'][counter])\n",
    "    # season['Opp_BA_var'] = stats.variance(year_groups['Opp_BA'][counter])\n",
    "\n",
    "    season['BB_max'] = max(year_groups['BB'][counter])\n",
    "    season['BB_min'] = min(year_groups['BB'][counter])\n",
    "    season['BB_mean'] = stats.mean(year_groups['BB'][counter])\n",
    "    season['BB_median'] = stats.median(year_groups['BB'][counter])\n",
    "    season['BB_var'] = stats.variance(year_groups['BB'][counter])\n",
    "\n",
    "    season['SO_max'] = max(year_groups['SO'][counter])\n",
    "    season['SO_min'] = min(year_groups['SO'][counter])\n",
    "    season['SO_mean'] = stats.mean(year_groups['SO'][counter])\n",
    "    season['SO_median'] = stats.median(year_groups['SO'][counter])\n",
    "    season['SO_var'] = stats.variance(year_groups['SO'][counter])\n",
    "\n",
    "    season['ERA_max'] = max(year_groups['ERA'][counter])\n",
    "    season['ERA_min'] = min(year_groups['ERA'][counter])\n",
    "    season['ERA_mean'] = stats.mean(year_groups['ERA'][counter])\n",
    "    season['ERA_median'] = stats.median(year_groups['ERA'][counter])\n",
    "    # season['ERA_var'] = stats.variance(year_groups['ERA'][counter])\n",
    "    season_list.append(season)\n",
    "    counter += 1\n",
    "    "
   ]
  },
  {
   "cell_type": "code",
   "execution_count": null,
   "metadata": {},
   "outputs": [],
   "source": [
    "season_list[0]  "
   ]
  },
  {
   "cell_type": "code",
   "execution_count": null,
   "metadata": {},
   "outputs": [],
   "source": [
    "df = df_pitching  # group pitchers by team and year to maybe normalize later\n",
    "team_by_year = df.groupby(['teamID']).apply(\n",
    "    lambda x: [\n",
    "        list(x['yearID']), \n",
    "        list(x['CG']), \n",
    "        list(x['IPouts']), \n",
    "        list(x['BFP']), \n",
    "        list(x['BAOpp']), \n",
    "        list(x['BB']), \n",
    "        list(x['SO']), \n",
    "        list(x['ERA'])\n",
    "        ]\n",
    "    ).apply(pd.Series)\n",
    "team_by_year.columns = ['yearID', 'CG', 'IP_Outs', 'BFP', 'Opp_BA', 'BB', 'SO', 'ERA']\n",
    "team_by_year = team_by_year.reset_index()"
   ]
  },
  {
   "cell_type": "code",
   "execution_count": null,
   "metadata": {},
   "outputs": [],
   "source": [
    "team_by_year.profile_report() # I'M GOING TO BED EVERYTHING UNTIL HERE IS GREAT "
   ]
  },
  {
   "cell_type": "markdown",
   "metadata": {},
   "source": [
    "## Now let's build a structure of each team's info parsed by year"
   ]
  },
  {
   "cell_type": "code",
   "execution_count": null,
   "metadata": {},
   "outputs": [],
   "source": [
    "len(team_by_year.loc[0, 'yearID'])"
   ]
  },
  {
   "cell_type": "code",
   "execution_count": null,
   "metadata": {},
   "outputs": [],
   "source": [
    "all_teams = []\n",
    "for team in range(len(team_by_year['teamID'].unique())):\n",
    "    all_teams.append(team_by_year['teamID'].unique())\n",
    "all_teams = (team_by_year['teamID'].unique()).tolist()  # init list 'all_teams' comprising all 149 teams."
   ]
  },
  {
   "cell_type": "code",
   "execution_count": null,
   "metadata": {},
   "outputs": [],
   "source": [
    "team_builder_counter = 0\n",
    "for team in team_by_year:\n",
    "    # team_name = dict(team_by_year.loc[team_builder_counter, 'teamID'])\n",
    "    for season in range(len(team_by_year.loc[team_builder_counter, 'yearID'])):\n",
    "        team_season_counter = 0\n",
    "        team_season_total = len(team_by_year.loc[team_builder_counter, 'yearID'])\n",
    "        for club in range(team_season_total):\n",
    "            all_teams[team_builder_counter]['season'] = dict(str(team_by_year.loc[team_builder_counter, 'yearID'][team_season_counter]))\n",
    "            # club_season_counter = 0\n",
    "            # for stat in len(team_name['season']):\n",
    "            #     team_name['season']['CG'] = sum(team_by_year[team_builder_counter]['CG'])\n",
    "        team_season_counter += 1\n",
    "team_builder_counter += 1"
   ]
  },
  {
   "cell_type": "code",
   "execution_count": null,
   "metadata": {},
   "outputs": [],
   "source": [
    "all_teams"
   ]
  },
  {
   "cell_type": "code",
   "execution_count": null,
   "metadata": {},
   "outputs": [],
   "source": [
    "all_teams_dicts = []\n",
    "all_teams_counter = 0\n",
    "for team in all_teams:\n",
    "    all_teams[all_teams_counter] = {}\n",
    "    for year in \n",
    "    all_teams_dicts.append(team)"
   ]
  },
  {
   "cell_type": "code",
   "execution_count": null,
   "metadata": {},
   "outputs": [],
   "source": [
    "year = 1871\n",
    "all_teams_dicts = []\n",
    "counter = 0\n",
    "for team in range(len(all_teams)):\n",
    "    str(all_teams[counter]) = {}\n",
    "    counter += 1\n",
    "    \n",
    "teams_list"
   ]
  },
  {
   "cell_type": "code",
   "execution_count": null,
   "metadata": {},
   "outputs": [],
   "source": [
    "    team['season']\n",
    "    season['year'] = year_groups['yearID'][counter]\n",
    "\n",
    "    season['CG_max'] = max(year_groups['CG'][counter])\n",
    "    season['CG_min'] = min(year_groups['CG'][counter])\n",
    "    season['CG_mean'] = stats.mean(year_groups['CG'][counter])\n",
    "    season['CG_median'] = stats.median(year_groups['CG'][counter])\n",
    "    season['CG_var'] = stats.variance(year_groups['CG'][counter])\n",
    "    \n",
    "    season['IP_outs_max'] = max(year_groups['IP_Outs'][counter])\n",
    "    season['IP_outs_min'] = min(year_groups['IP_Outs'][counter])\n",
    "    season['IP_outs_mean'] = stats.mean(year_groups['IP_Outs'][counter])\n",
    "    season['IP_outs_median'] = stats.median(year_groups['IP_Outs'][counter])\n",
    "    season['IP_outs_var'] = stats.variance(year_groups['IP_Outs'][counter])\n",
    "\n",
    "    season['batters_faced_max'] = max(year_groups['BFP'][counter])\n",
    "    season['batters_faced_min'] = min(year_groups['BFP'][counter])\n",
    "    season['batters_faced_mean'] = stats.mean(year_groups['BFP'][counter])\n",
    "    season['batters_faced_median'] = stats.median(year_groups['BFP'][counter])\n",
    "    # season['batters_faced_var'] = stats.variance(year_groups['BFP'][counter])\n",
    "\n",
    "    season['Opp_BA_max'] = max(year_groups['Opp_BA'][counter])\n",
    "    season['Opp_BA_min'] = min(year_groups['Opp_BA'][counter])\n",
    "    season['Opp_BA_mean'] = stats.mean(year_groups['Opp_BA'][counter])\n",
    "    season['Opp_BA_median'] = stats.median(year_groups['Opp_BA'][counter])\n",
    "    # season['Opp_BA_var'] = stats.variance(year_groups['Opp_BA'][counter])\n",
    "\n",
    "    season['BB_max'] = max(year_groups['BB'][counter])\n",
    "    season['BB_min'] = min(year_groups['BB'][counter])\n",
    "    season['BB_mean'] = stats.mean(year_groups['BB'][counter])\n",
    "    season['BB_median'] = stats.median(year_groups['BB'][counter])\n",
    "    season['BB_var'] = stats.variance(year_groups['BB'][counter])\n",
    "\n",
    "    season['SO_max'] = max(year_groups['SO'][counter])\n",
    "    season['SO_min'] = min(year_groups['SO'][counter])\n",
    "    season['SO_mean'] = stats.mean(year_groups['SO'][counter])\n",
    "    season['SO_median'] = stats.median(year_groups['SO'][counter])\n",
    "    season['SO_var'] = stats.variance(year_groups['SO'][counter])\n",
    "\n",
    "    season['ERA_max'] = max(year_groups['ERA'][counter])\n",
    "    season['ERA_min'] = min(year_groups['ERA'][counter])\n",
    "    season['ERA_mean'] = stats.mean(year_groups['ERA'][counter])\n",
    "    season['ERA_median'] = stats.median(year_groups['ERA'][counter])\n",
    "    # season['ERA_var'] = stats.variance(year_groups['ERA'][counter])\n",
    "    season_list.append(season)\n",
    "    counter += 1"
   ]
  }
 ],
 "metadata": {
  "kernelspec": {
   "display_name": "Python 3.10.3 64-bit ('3.10.3')",
   "language": "python",
   "name": "python3"
  },
  "language_info": {
   "codemirror_mode": {
    "name": "ipython",
    "version": 3
   },
   "file_extension": ".py",
   "mimetype": "text/x-python",
   "name": "python",
   "nbconvert_exporter": "python",
   "pygments_lexer": "ipython3",
   "version": "3.10.3"
  },
  "orig_nbformat": 4,
  "vscode": {
   "interpreter": {
    "hash": "10626171d4353dd8d0f12b0dae77464b904fee8f635bb045a55f368206a04bde"
   }
  }
 },
 "nbformat": 4,
 "nbformat_minor": 2
}
